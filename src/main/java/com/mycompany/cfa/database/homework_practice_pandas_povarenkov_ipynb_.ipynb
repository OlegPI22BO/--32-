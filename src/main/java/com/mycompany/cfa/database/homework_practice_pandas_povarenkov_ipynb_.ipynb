{
  "cells": [
    {
      "cell_type": "markdown",
      "metadata": {
        "id": "Thckfjo3V8Ce"
      },
      "source": [
        "## Машинное обучение\n",
        "\n",
        "## Практическое домашнее задание 2\n",
        "\n",
        "### Общая информация\n",
        "\n",
        "Дата выдачи: 28.09.2020\n",
        "\n",
        "Жесткий дедлайн: 23:59MSK 05.10.2020"
      ]
    },
    {
      "cell_type": "markdown",
      "metadata": {
        "id": "yHKKNfIhV8Cj"
      },
      "source": [
        "### О задании\n",
        "\n",
        "Задание состоит из двух разделов, посвященных работе с табличными данными с помощью библиотеки pandas и визуализации с помощью matplotlib. В первом разделе вам предстоит выполнить базовые задания с помощью вышеуказанных библиотек, а во втором распределить студентов по курсам. Баллы даются за выполнение отдельных пунктов. Задачи в рамках одного раздела рекомендуется решать в том порядке, в котором они даны в задании.\n",
        "\n",
        "Задание направлено на освоение jupyter notebook, библиотек pandas и matplotlib.\n",
        "\n",
        "### Оценивание и штрафы\n",
        "Каждая из задач имеет определенную «стоимость» (указана в скобках около задачи). Максимально допустимая оценка за работу — 10 баллов.\n",
        "\n",
        "Сдавать задание после жёсткого дедлайна нельзя. При выставлении неполного балла за задание в связи с наличием ошибок на усмотрение проверяющего предусмотрена возможность исправить работу на указанных в ответном письме условиях.\n",
        "\n",
        "Задание выполняется самостоятельно. «Похожие» решения считаются плагиатом и все задействованные студенты (в том числе те, у кого списали) не могут получить за него больше 0 баллов.\n",
        "\n",
        "### Формат сдачи\n",
        "Присылать необходимо ноутбук с выполненным заданием. Сам ноутбук называйте в формате homework-practice-pandas-Username.ipynb, где Username — ваша фамилия."
      ]
    },
    {
      "cell_type": "markdown",
      "metadata": {
        "id": "0_VFIuwKV8Ck"
      },
      "source": [
        "## 0. Введение"
      ]
    },
    {
      "cell_type": "markdown",
      "metadata": {
        "id": "6dfxecZmV8Cl"
      },
      "source": [
        "Для работы с содержимым ячейки используется *режим редактирования* (*Edit mode*, включается нажатием клавиши **Enter** после выбора ячейки), а для навигации между ячейками искользуется *командный режим* (*Command mode*, включается нажатием клавиши **Esc**). Тип ячейки можно задать в командном режиме либо с помощью горячих клавиш (**y** to code, **m** to markdown, **r** to edit raw text), либо в меню *Cell -> Cell type*.\n",
        "\n",
        "После заполнения ячейки нужно нажать *Shift + Enter*, эта команда обработает содержимое ячейки: проинтерпретирует код или сверстает размеченный текст."
      ]
    },
    {
      "cell_type": "markdown",
      "metadata": {
        "id": "fkAZjQB6V8Cp"
      },
      "source": [
        "А ещё можно вставлять картинки, или гифки, или что захотите:\n",
        "\n",
        "<img src=\"https://media1.tenor.com/images/9b8fbe9214504bcf6c60fe4e4f7e114e/tenor.gif?itemid=5416416\" style=\"width: 400px\">"
      ]
    },
    {
      "cell_type": "markdown",
      "metadata": {
        "id": "HmSzEJ2pV8Cr"
      },
      "source": [
        "## 1. Табличные данные и Pandas"
      ]
    },
    {
      "cell_type": "markdown",
      "metadata": {
        "id": "-jlmS-Q4V8Cr"
      },
      "source": [
        "Pandas — удобная библиотека для работы с табличными данными в Python, если данных не слишком много и они помещаются в оперативную память вашего компьютера. Несмотря на неэффективность реализации и некоторые проблемы, библиотека стала стандартом в анализе данных.\n",
        "\n",
        "Основной объект в pandas — это DataFrame, представляющий собой таблицу с именованными колонками различных типов, индексом (может быть многоуровневым). DataFrame можно создавать, считывая таблицу из файла или задавая вручную из других объектов.\n",
        "\n",
        "В этой части потребуется выполнить несколько небольших заданий. Можно пойти двумя путями: сначала изучить материалы, а потом приступить к заданиям, или же разбираться \"по ходу\". Выбирайте сами.\n",
        "\n",
        "Материалы:\n",
        "1. [Pandas за 10 минут из официального руководства](http://pandas.pydata.org/pandas-docs/stable/10min.html)\n",
        "2. [Документация](http://pandas.pydata.org/pandas-docs/stable/index.html) (стоит обращаться, если не понятно, как вызывать конкретный метод)\n",
        "3. [Примеры использования функционала](http://nbviewer.jupyter.org/github/justmarkham/pandas-videos/blob/master/pandas.ipynb)\n",
        "\n",
        "Многие из заданий можно выполнить несколькими способами. Не существуют единственно верного, но попробуйте максимально задействовать арсенал pandas и ориентируйтесь на простоту и понятность вашего кода. Мы не будем подсказывать, что нужно использовать для решения конкретной задачи, попробуйте находить необходимый функционал сами (название метода чаще всего очевидно). В помощь вам документация, поиск, ИИ и stackoverflow."
      ]
    },
    {
      "cell_type": "code",
      "execution_count": 25,
      "metadata": {
        "colab": {
          "base_uri": "https://localhost:8080/"
        },
        "id": "Ao-M9IQGV8Cs",
        "outputId": "c5587fe5-01d3-4ce7-ce2d-925df6391985"
      },
      "outputs": [
        {
          "output_type": "stream",
          "name": "stdout",
          "text": [
            "Populating the interactive namespace from numpy and matplotlib\n"
          ]
        }
      ],
      "source": [
        "%pylab inline\n",
        "import pandas as pd"
      ]
    },
    {
      "cell_type": "markdown",
      "metadata": {
        "id": "gBtt8ZIBV8Ct"
      },
      "source": [
        "Скачаем данные:"
      ]
    },
    {
      "cell_type": "code",
      "execution_count": 26,
      "metadata": {
        "id": "4bvmz5vuV8Ct"
      },
      "outputs": [],
      "source": [
        "!wget  -O 'end_seminar.xlsx' -q 'https://www.dropbox.com/s/f4rm8sjc3v99p0m/_end_seminar.xlsx?dl=0'"
      ]
    },
    {
      "cell_type": "markdown",
      "metadata": {
        "id": "py9p5UAVV8Ct"
      },
      "source": [
        "Для пользователей Windows: скачайте файл самостоятельно и поместите его в папку с тетрадкой. Или попробуйте один из следующих вариантов:"
      ]
    },
    {
      "cell_type": "code",
      "execution_count": 27,
      "metadata": {
        "id": "GXNAFYsZV8Cu"
      },
      "outputs": [],
      "source": [
        "# !powershell iwr -outf somefile https://somesite/somefile"
      ]
    },
    {
      "cell_type": "code",
      "execution_count": 28,
      "metadata": {
        "id": "1s1MiVV9V8Cu"
      },
      "outputs": [],
      "source": [
        "# !pip install wget\n",
        "# import wget\n",
        "# wget.download('https://dropbox.com/s/f4rm8sjc3v99p0m/_end_seminar.xlsx?dl=1', 'end_seminar.xlsx')"
      ]
    },
    {
      "cell_type": "markdown",
      "metadata": {
        "id": "TW5Yuz1LV8Cu"
      },
      "source": [
        "##### В первой части задания (до раздела \"Распределение студентов по курсам\") использование циклов запрещается и повлечет за собой снижение оценки"
      ]
    },
    {
      "cell_type": "markdown",
      "metadata": {
        "id": "Mkx98dawV8Cu"
      },
      "source": [
        "Для каждой задачи из этого раздела вы должны написать код для получения ответа, а также дать текстовый ответ, если он предполагается.\n",
        "\n",
        "На некоторые вопросы вы можете получить ответ путём пристального взгляда на таблицу, но это не будет засчитываться. Вы в любом случае должны получить ответ с помощью кода."
      ]
    },
    {
      "cell_type": "markdown",
      "metadata": {
        "id": "OisZto0zV8Cv"
      },
      "source": [
        "#### 1. [0 баллов] Откройте файл с таблицей (не забудьте про её формат). Выведите последние 10 строк.\n",
        "\n",
        "Посмотрите на данные и скажите, что они из себя представляют, сколько в таблице строк, какие столбцы? (на это не надо отвечать, просто подумайте об этом)"
      ]
    },
    {
      "cell_type": "code",
      "execution_count": 29,
      "metadata": {
        "colab": {
          "base_uri": "https://localhost:8080/"
        },
        "id": "a9a5c27AV8Cv",
        "outputId": "c690fb2b-981b-42bc-e950-a555a39d34ca"
      },
      "outputs": [
        {
          "output_type": "stream",
          "name": "stdout",
          "text": [
            "                timestamp                                id  rating  18_group  \\\n",
            "0 2020-05-15 01:12:50.543  93ff79a51cd602f1dd3028ba2c129503     698     181.0   \n",
            "1 2020-05-15 02:46:48.066  26b01b1c4cd5656bab18d24c548834fb     647     181.0   \n",
            "2 2020-05-15 03:12:41.480  30f3653fc176d54e89ac3179c455c6dd     624     185.0   \n",
            "3 2020-05-15 04:43:08.994  1528f0eaa027580820ccf0d92a53ad68     579     182.0   \n",
            "4 2020-05-15 07:47:17.197  496ea4f0d4abe264b1bb1b80eb3830c5     572     183.0   \n",
            "5 2020-05-15 09:10:18.558  d0d8ff53ed5b119f9056068e954256c6     591     187.0   \n",
            "6 2020-05-15 11:42:16.910  e4caca755ee0bdd711e18fb8084958b5     724     181.0   \n",
            "7 2020-05-15 12:11:43.252  8047c18b3c531c6f47931e0744f3e028     566     187.0   \n",
            "8 2020-05-15 13:21:40.913  e8b314842f176be9051d14a07cb156cb     618     181.0   \n",
            "9 2020-05-15 13:29:10.789  d6c079f1ff869c8c84fa3ed30bd67e0e     733     181.0   \n",
            "\n",
            "   is_mi                             fall_1  \\\n",
            "0    NaN                           Язык SQL   \n",
            "1    NaN  Высокопроизводительные вычисления   \n",
            "2    NaN   Безопасность компьютерных систем   \n",
            "3    NaN        Statistical Learning Theory   \n",
            "4    NaN  Высокопроизводительные вычисления   \n",
            "5    NaN                           Язык SQL   \n",
            "6    NaN        Statistical Learning Theory   \n",
            "7    NaN                           Язык SQL   \n",
            "8    NaN                           Язык SQL   \n",
            "9    NaN                  Теория баз данных   \n",
            "\n",
            "                              fall_2  \\\n",
            "0  Высокопроизводительные вычисления   \n",
            "1   Безопасность компьютерных систем   \n",
            "2               Матричные вычисления   \n",
            "3  Высокопроизводительные вычисления   \n",
            "4   Безопасность компьютерных систем   \n",
            "5        Statistical Learning Theory   \n",
            "6   Безопасность компьютерных систем   \n",
            "7                  Теория баз данных   \n",
            "8                  Теория баз данных   \n",
            "9  Высокопроизводительные вычисления   \n",
            "\n",
            "                                            fall_3  \\\n",
            "0                             Матричные вычисления   \n",
            "1                                         Язык SQL   \n",
            "2                    Моделирование временных рядов   \n",
            "3                             Матричные вычисления   \n",
            "4                                Теория баз данных   \n",
            "5  Сбор и обработка данных с помощью краудсорсинга   \n",
            "6                    Моделирование временных рядов   \n",
            "7                 Безопасность компьютерных систем   \n",
            "8                             Матричные вычисления   \n",
            "9  Сбор и обработка данных с помощью краудсорсинга   \n",
            "\n",
            "                                      spring_1  \\\n",
            "0                       Дискретная оптимизация   \n",
            "1                       Дискретная оптимизация   \n",
            "2                       Дискретная оптимизация   \n",
            "3                       Дискретная оптимизация   \n",
            "4                            Компьютерные сети   \n",
            "5  Промышленное программирование на языке Java   \n",
            "6                             Численные методы   \n",
            "7  Промышленное программирование на языке Java   \n",
            "8  Промышленное программирование на языке Java   \n",
            "9   Дополнительные главы прикладной статистики   \n",
            "\n",
            "                                      spring_2                spring_3  \\\n",
            "0                             Численные методы     Машинное обучение 2   \n",
            "1                             Численные методы     Машинное обучение 2   \n",
            "2                          Машинное обучение 2        Численные методы   \n",
            "3                             Численные методы     Машинное обучение 2   \n",
            "4                       Дискретная оптимизация        Численные методы   \n",
            "5                             Численные методы  Дискретная оптимизация   \n",
            "6  Промышленное программирование на языке Java     Машинное обучение 2   \n",
            "7                            Компьютерные сети  Дискретная оптимизация   \n",
            "8                            Компьютерные сети  Дискретная оптимизация   \n",
            "9                      Анализ данных в бизнесе        Численные методы   \n",
            "\n",
            "  is_first_time  percentile  17_group blended  is_ml_student  \n",
            "0            Да    0.183857       NaN     NaN            NaN  \n",
            "1           Нет    0.426009       NaN     NaN            NaN  \n",
            "2            Да    0.538117       NaN     NaN            NaN  \n",
            "3            Да    0.744395       NaN     NaN            NaN  \n",
            "4            Да    0.780269       NaN     NaN            NaN  \n",
            "5            Да    0.690583       NaN     NaN            NaN  \n",
            "6            Да    0.103139       NaN     NaN            NaN  \n",
            "7            Да    0.802691       NaN     NaN            NaN  \n",
            "8            Да    0.565022       NaN     NaN            NaN  \n",
            "9            Да    0.085202       NaN     NaN            1.0  \n"
          ]
        }
      ],
      "source": [
        "df = pd.read_excel(\"end_seminar.xlsx\")\n",
        "print(df.head(10))"
      ]
    },
    {
      "cell_type": "markdown",
      "metadata": {
        "id": "Sdg2z_w9V8Cv"
      },
      "source": [
        "#### 2. [0.5 балла] Ответьте на вопросы:\n",
        "1. Сколько было заявок из групп 18-го года набора, а сколько из групп 17-го года?\n",
        "2. Есть ли студенты с равными перцентилями?"
      ]
    },
    {
      "cell_type": "code",
      "execution_count": 30,
      "metadata": {
        "colab": {
          "base_uri": "https://localhost:8080/"
        },
        "id": "p8Ur9yNKV8Cw",
        "outputId": "6a9cc4f0-e58b-4e31-b57a-f1e8002f4843"
      },
      "outputs": [
        {
          "output_type": "stream",
          "name": "stdout",
          "text": [
            "2.1. Заявок 18-го года набора было: 223,\n",
            "а 17-го: 138\n",
            "2.2 Студенты с равными перцентилями - есть.\n"
          ]
        }
      ],
      "source": [
        "val_counts_18 = df.value_counts(\"18_group\")\n",
        "val_counts_17 = df.value_counts(\"17_group\")\n",
        "print(\"2.1. Заявок 18-го года набора было: \" + str(val_counts_18.sum()) + \",\")\n",
        "print(\"а 17-го: \" + str(val_counts_17.sum()))\n",
        "\n",
        "val_counts_percentile = df.value_counts(\"percentile\")\n",
        "common_percentile = val_counts_percentile.max()\n",
        "if (common_percentile > 1):\n",
        "    print(\"2.2 Студенты с равными перцентилями - есть.\")\n",
        "else:\n",
        "    print(\"2.2 Студентов с равными перцентилями - нет\")"
      ]
    },
    {
      "cell_type": "markdown",
      "metadata": {
        "id": "YnnZ8QcAV8Cw"
      },
      "source": [
        "#### 3. [0.5 балла] Есть ли в данных пропуски? В каких колонках? Сколько их в каждой из этих колонок?"
      ]
    },
    {
      "cell_type": "code",
      "execution_count": 31,
      "metadata": {
        "colab": {
          "base_uri": "https://localhost:8080/"
        },
        "id": "5DKT5FK3V8Cw",
        "outputId": "772e937b-9198-4340-80ff-7c7e88242fb0"
      },
      "outputs": [
        {
          "output_type": "stream",
          "name": "stdout",
          "text": [
            "3.1\n",
            "Ниже представлены данные в формате: [название колонки]:[кол-во пропусков в соотв. колонке]\n",
            "timestamp:0\n",
            "id:0\n",
            "rating:0\n",
            "18_group:138\n",
            "is_mi:343\n",
            "fall_1:0\n",
            "fall_2:0\n",
            "fall_3:0\n",
            "spring_1:0\n",
            "spring_2:0\n",
            "spring_3:0\n",
            "is_first_time:2\n",
            "percentile:0\n",
            "17_group:223\n",
            "blended:223\n",
            "is_ml_student:304\n",
            " => пропуски в данных - есть\n"
          ]
        }
      ],
      "source": [
        "def getNullCount(col_ind:str) -> int:\n",
        "    return len(df.get(col_ind)) - df.get(col_ind).count()\n",
        "\n",
        "\n",
        "nulls_count = 0\n",
        "\n",
        "print(\"3.1\")\n",
        "print(\"Ниже представлены данные в формате: [название колонки]:[кол-во пропусков в соотв. колонке]\")\n",
        "\n",
        "nulls_count = nulls_count + getNullCount(\"timestamp\")\n",
        "print(\"timestamp:\" + str(getNullCount(\"timestamp\")))\n",
        "\n",
        "nulls_count = nulls_count + getNullCount(\"id\")\n",
        "print(\"id:\" + str(getNullCount(\"id\")))\n",
        "\n",
        "nulls_count = nulls_count + getNullCount(\"rating\")\n",
        "print(\"rating:\" + str(getNullCount(\"rating\")))\n",
        "\n",
        "nulls_count = nulls_count + getNullCount(\"18_group\")\n",
        "print(\"18_group:\" + str(getNullCount(\"18_group\")))\n",
        "\n",
        "nulls_count = nulls_count + getNullCount(\"is_mi\")\n",
        "print(\"is_mi:\" + str(getNullCount(\"is_mi\")))\n",
        "\n",
        "nulls_count = nulls_count + getNullCount(\"fall_1\")\n",
        "print(\"fall_1:\" + str(getNullCount(\"fall_1\")))\n",
        "\n",
        "nulls_count = nulls_count + getNullCount(\"fall_2\")\n",
        "print(\"fall_2:\" + str(getNullCount(\"fall_2\")))\n",
        "\n",
        "nulls_count = nulls_count + getNullCount(\"fall_3\")\n",
        "print(\"fall_3:\" + str(getNullCount(\"fall_3\")))\n",
        "\n",
        "nulls_count = nulls_count + getNullCount(\"spring_1\")\n",
        "print(\"spring_1:\" + str(getNullCount(\"spring_1\")))\n",
        "\n",
        "nulls_count = nulls_count + getNullCount(\"spring_2\")\n",
        "print(\"spring_2:\" + str(getNullCount(\"spring_2\")))\n",
        "\n",
        "nulls_count = nulls_count + getNullCount(\"spring_3\")\n",
        "print(\"spring_3:\" + str(getNullCount(\"spring_3\")))\n",
        "\n",
        "nulls_count = nulls_count + getNullCount(\"is_first_time\")\n",
        "print(\"is_first_time:\" + str(getNullCount(\"is_first_time\")))\n",
        "\n",
        "nulls_count = nulls_count + getNullCount(\"percentile\")\n",
        "print(\"percentile:\" + str(getNullCount(\"percentile\")))\n",
        "\n",
        "nulls_count = nulls_count + getNullCount(\"17_group\")\n",
        "print(\"17_group:\" + str(getNullCount(\"17_group\")))\n",
        "\n",
        "nulls_count = nulls_count + getNullCount(\"blended\")\n",
        "print(\"blended:\" + str(getNullCount(\"blended\")))\n",
        "\n",
        "nulls_count = nulls_count + getNullCount(\"is_ml_student\")\n",
        "print(\"is_ml_student:\" + str(getNullCount(\"is_ml_student\")))\n",
        "\n",
        "if (nulls_count > 0):\n",
        "    print(\" => пропуски в данных - есть\")\n",
        "else:\n",
        "    print(\" => пропусков в данных - нет\")"
      ]
    },
    {
      "cell_type": "markdown",
      "metadata": {
        "id": "LbANR2t4V8Cw"
      },
      "source": [
        "Заполните пропуски пустой строкой для строковых колонок и нулём для числовых."
      ]
    },
    {
      "cell_type": "code",
      "execution_count": 32,
      "metadata": {
        "colab": {
          "base_uri": "https://localhost:8080/"
        },
        "id": "gjEQQ00aV8Cx",
        "outputId": "c81435aa-3adb-4ef2-af80-3d8b83236158"
      },
      "outputs": [
        {
          "output_type": "stream",
          "name": "stdout",
          "text": [
            "Пустые значения заполнены. Для демонстрации приведём первые 10-ть строк таблицы\n",
            "                timestamp                                id  rating  18_group  \\\n",
            "0 2020-05-15 01:12:50.543  93ff79a51cd602f1dd3028ba2c129503     698     181.0   \n",
            "1 2020-05-15 02:46:48.066  26b01b1c4cd5656bab18d24c548834fb     647     181.0   \n",
            "2 2020-05-15 03:12:41.480  30f3653fc176d54e89ac3179c455c6dd     624     185.0   \n",
            "3 2020-05-15 04:43:08.994  1528f0eaa027580820ccf0d92a53ad68     579     182.0   \n",
            "4 2020-05-15 07:47:17.197  496ea4f0d4abe264b1bb1b80eb3830c5     572     183.0   \n",
            "5 2020-05-15 09:10:18.558  d0d8ff53ed5b119f9056068e954256c6     591     187.0   \n",
            "6 2020-05-15 11:42:16.910  e4caca755ee0bdd711e18fb8084958b5     724     181.0   \n",
            "7 2020-05-15 12:11:43.252  8047c18b3c531c6f47931e0744f3e028     566     187.0   \n",
            "8 2020-05-15 13:21:40.913  e8b314842f176be9051d14a07cb156cb     618     181.0   \n",
            "9 2020-05-15 13:29:10.789  d6c079f1ff869c8c84fa3ed30bd67e0e     733     181.0   \n",
            "\n",
            "   is_mi                             fall_1  \\\n",
            "0    0.0                           Язык SQL   \n",
            "1    0.0  Высокопроизводительные вычисления   \n",
            "2    0.0   Безопасность компьютерных систем   \n",
            "3    0.0        Statistical Learning Theory   \n",
            "4    0.0  Высокопроизводительные вычисления   \n",
            "5    0.0                           Язык SQL   \n",
            "6    0.0        Statistical Learning Theory   \n",
            "7    0.0                           Язык SQL   \n",
            "8    0.0                           Язык SQL   \n",
            "9    0.0                  Теория баз данных   \n",
            "\n",
            "                              fall_2  \\\n",
            "0  Высокопроизводительные вычисления   \n",
            "1   Безопасность компьютерных систем   \n",
            "2               Матричные вычисления   \n",
            "3  Высокопроизводительные вычисления   \n",
            "4   Безопасность компьютерных систем   \n",
            "5        Statistical Learning Theory   \n",
            "6   Безопасность компьютерных систем   \n",
            "7                  Теория баз данных   \n",
            "8                  Теория баз данных   \n",
            "9  Высокопроизводительные вычисления   \n",
            "\n",
            "                                            fall_3  \\\n",
            "0                             Матричные вычисления   \n",
            "1                                         Язык SQL   \n",
            "2                    Моделирование временных рядов   \n",
            "3                             Матричные вычисления   \n",
            "4                                Теория баз данных   \n",
            "5  Сбор и обработка данных с помощью краудсорсинга   \n",
            "6                    Моделирование временных рядов   \n",
            "7                 Безопасность компьютерных систем   \n",
            "8                             Матричные вычисления   \n",
            "9  Сбор и обработка данных с помощью краудсорсинга   \n",
            "\n",
            "                                      spring_1  \\\n",
            "0                       Дискретная оптимизация   \n",
            "1                       Дискретная оптимизация   \n",
            "2                       Дискретная оптимизация   \n",
            "3                       Дискретная оптимизация   \n",
            "4                            Компьютерные сети   \n",
            "5  Промышленное программирование на языке Java   \n",
            "6                             Численные методы   \n",
            "7  Промышленное программирование на языке Java   \n",
            "8  Промышленное программирование на языке Java   \n",
            "9   Дополнительные главы прикладной статистики   \n",
            "\n",
            "                                      spring_2                spring_3  \\\n",
            "0                             Численные методы     Машинное обучение 2   \n",
            "1                             Численные методы     Машинное обучение 2   \n",
            "2                          Машинное обучение 2        Численные методы   \n",
            "3                             Численные методы     Машинное обучение 2   \n",
            "4                       Дискретная оптимизация        Численные методы   \n",
            "5                             Численные методы  Дискретная оптимизация   \n",
            "6  Промышленное программирование на языке Java     Машинное обучение 2   \n",
            "7                            Компьютерные сети  Дискретная оптимизация   \n",
            "8                            Компьютерные сети  Дискретная оптимизация   \n",
            "9                      Анализ данных в бизнесе        Численные методы   \n",
            "\n",
            "  is_first_time  percentile  17_group blended  is_ml_student  \n",
            "0            Да    0.183857       0.0                    0.0  \n",
            "1           Нет    0.426009       0.0                    0.0  \n",
            "2            Да    0.538117       0.0                    0.0  \n",
            "3            Да    0.744395       0.0                    0.0  \n",
            "4            Да    0.780269       0.0                    0.0  \n",
            "5            Да    0.690583       0.0                    0.0  \n",
            "6            Да    0.103139       0.0                    0.0  \n",
            "7            Да    0.802691       0.0                    0.0  \n",
            "8            Да    0.565022       0.0                    0.0  \n",
            "9            Да    0.085202       0.0                    1.0  \n"
          ]
        }
      ],
      "source": [
        "def reduceNulls(col_ind:str, isDigit:bool) -> None:\n",
        "    column = df.get(col_ind)\n",
        "    if isDigit:\n",
        "        df[col_ind] = column.fillna(value = 0)\n",
        "    else:\n",
        "        df[col_ind] = column.fillna(value = \" \")\n",
        "    return None\n",
        "\n",
        "\n",
        "reduceNulls(\"18_group\", True)\n",
        "reduceNulls(\"is_mi\", True)\n",
        "reduceNulls(\"is_first_time\", False)\n",
        "reduceNulls(\"17_group\", True)\n",
        "reduceNulls(\"blended\", False)\n",
        "reduceNulls(\"is_ml_student\", True)\n",
        "\n",
        "print(\"Пустые значения заполнены. Для демонстрации приведём первые 10-ть строк таблицы\")\n",
        "print(df.head(10))"
      ]
    },
    {
      "cell_type": "markdown",
      "metadata": {
        "id": "IaBS7c61V8Cy"
      },
      "source": [
        "#### 4. [0.5 балла] Посмотрите повнимательнее на колонку 'is_first_time'.\n",
        "\n",
        "Есть ли в ней ответы \"Нет\"? Сколько их?\n",
        "\n",
        "Если вы найдете повторные обращения студентов, оставьте только самую позднюю версию."
      ]
    },
    {
      "cell_type": "code",
      "execution_count": 33,
      "metadata": {
        "colab": {
          "base_uri": "https://localhost:8080/"
        },
        "id": "QY5dLdTYV8Cy",
        "outputId": "01a653aa-7073-4805-efa4-e0cd78f3bdfb"
      },
      "outputs": [
        {
          "output_type": "stream",
          "name": "stdout",
          "text": [
            "4. Количество \"Нет\" в колонке is_first_time: 51\n"
          ]
        }
      ],
      "source": [
        "df.sort_values(by=['timestamp']).drop_duplicates(subset='id', keep='last')\n",
        "not_first = df.get(\"is_first_time\")\n",
        "print(\"4. Количество \\\"Нет\\\" в колонке is_first_time: \" + str(not_first.where(not_first == \"Нет\").count()))"
      ]
    },
    {
      "cell_type": "markdown",
      "metadata": {
        "id": "mZDzXKF6V8Cz"
      },
      "source": [
        "#### 5. [0.5 балла] Какие  blended-курсы для четверокурсников существуют? На какой blended-курс записалось наибольшее количество студентов? На каком из курсов собрались студенты с самым высоким средним рейтингом?"
      ]
    },
    {
      "cell_type": "code",
      "execution_count": 68,
      "metadata": {
        "colab": {
          "base_uri": "https://localhost:8080/"
        },
        "id": "AqNrqtelV8C0",
        "outputId": "64c96db5-076b-45ec-aabf-61c6592004a5"
      },
      "outputs": [
        {
          "output_type": "stream",
          "name": "stdout",
          "text": [
            "Список существующих \"blended\" курсов для четверокурсников: \n",
            "223                            DevOps\n",
            "224                            DevOps\n",
            "225                            DevOps\n",
            "226                            DevOps\n",
            "227                            DevOps\n",
            "                    ...              \n",
            "356                            DevOps\n",
            "357                            DevOps\n",
            "358    Соревновательный анализ данных\n",
            "359                            DevOps\n",
            "360    Соревновательный анализ данных\n",
            "Name: blended, Length: 138, dtype: object\n",
            "Наибольшее количество студентов записалось на: Соревновательный анализ данных\n",
            "Курс, на который собрались студенты с самым высоким рейтингомDevOps\n"
          ]
        }
      ],
      "source": [
        "blended_courses = df.get(df[\"17_group\"] > 0).blended\n",
        "print(\"Список существующих \\\"blended\\\" курсов для четверокурсников: \")\n",
        "print(blended_courses)\n",
        "print(\"Наибольшее количество студентов записалось на: \" + str(blended_courses.max()))\n",
        "\n",
        "sorted_blended = df.groupby(\"blended\")[\"rating\"].sum()\n",
        "keys = sorted_blended.keys()\n",
        "sorted_blended.pop(\" \")\n",
        "print(\"Курс, на который собрались студенты с самым высоким рейтингом\" + str(sorted_blended.idxmax()))"
      ]
    },
    {
      "cell_type": "markdown",
      "metadata": {
        "id": "6-vgtCCFV8C1"
      },
      "source": [
        "#### 6. [1 балл] Выясните, есть ли в данных студенты с абсолютно одинаковыми предпочтениями по всем курсам (не забудьте учесть blended-курсы для четверокурсников). Сколько таких наборов, которые взяли несколько студентов? Выведите их все вместе с количеством выбравших их студентов."
      ]
    },
    {
      "cell_type": "code",
      "execution_count": 70,
      "metadata": {
        "colab": {
          "base_uri": "https://localhost:8080/"
        },
        "id": "LaJ398oOV8C2",
        "outputId": "95241465-6899-4fed-9a27-bb55bbd61eb1"
      },
      "outputs": [
        {
          "output_type": "stream",
          "name": "stdout",
          "text": [
            "fall_1                       fall_2                                 fall_3                                                spring_1                                                spring_2                  blended                              \n",
            "Statistical Learning Theory  Анализ неструктурированных данных      Принятие решений в условиях риска и неопределённости  Конфликты и кооперация                                  Обучение с подкреплением  DevOps                                   1\n",
            "                                                                    Сбор и обработка данных с помощью краудсорсинга       Обучение с подкреплением                                Конфликты и кооперация    DevOps                                   2\n",
            "                                                                                                                                                                                                            Соревновательный анализ данных           1\n",
            "                             Байесовские методы машинного обучения  Безопасность компьютерных систем                      Проектирование и разработка высоконагруженных сервисов  Компьютерное зрение       Введение в дифференциальную геометрию    1\n",
            "                                                                    Высокопроизводительные вычисления                     Символьные вычисления                                   Компьютерное зрение       Введение в дифференциальную геометрию    1\n",
            "                                                                                                                                                                                                                                                    ..\n",
            "Язык SQL                     Теория баз данных                      Безопасность компьютерных систем                      Промышленное программирование на языке Java             Дискретная оптимизация                                             1\n",
            "                                                                                                                                                                                  Компьютерные сети                                                  2\n",
            "                                                                    Матричные вычисления                                  Промышленное программирование на языке Java             Компьютерные сети                                                  1\n",
            "                                                                    Принятие решений в условиях риска и неопределённости  Анализ данных в бизнесе                                 Системы баз данных                                                 1\n",
            "                                                                    Сбор и обработка данных с помощью краудсорсинга       Промышленное программирование на языке Java             Системы баз данных                                                 1\n",
            "Length: 324, dtype: int64\n"
          ]
        }
      ],
      "source": [
        "df_by_courses = df.groupby(['fall_1', 'fall_2',\n",
        "       'fall_3', 'spring_1', 'spring_2', 'blended'])\n",
        "print(df_by_courses.size())"
      ]
    },
    {
      "cell_type": "markdown",
      "metadata": {
        "id": "DU7_3POKV8C2"
      },
      "source": [
        "#### 7. [0.5 балла] Найдите курсы по выбору, на которые записывались как студенты 18-го года набора, так и студенты 17-го года."
      ]
    },
    {
      "cell_type": "code",
      "execution_count": 65,
      "metadata": {
        "colab": {
          "base_uri": "https://localhost:8080/",
          "height": 660
        },
        "id": "c-9xP79eV8C3",
        "outputId": "fae2304c-2b2d-4c41-ba9d-d6a11106f518"
      },
      "outputs": [
        {
          "output_type": "execute_result",
          "data": {
            "text/plain": [
              "     18_group  17_group\n",
              "0       181.0       0.0\n",
              "1       181.0       0.0\n",
              "2       185.0       0.0\n",
              "3       182.0       0.0\n",
              "4       183.0       0.0\n",
              "..        ...       ...\n",
              "219     184.0       0.0\n",
              "220     188.0       0.0\n",
              "221     186.0       0.0\n",
              "222     188.0       0.0\n",
              "251       0.0     175.0\n",
              "\n",
              "[224 rows x 2 columns]"
            ],
            "text/html": [
              "\n",
              "  <div id=\"df-56498cfd-cecb-41c5-a943-6b4237692e28\" class=\"colab-df-container\">\n",
              "    <div>\n",
              "<style scoped>\n",
              "    .dataframe tbody tr th:only-of-type {\n",
              "        vertical-align: middle;\n",
              "    }\n",
              "\n",
              "    .dataframe tbody tr th {\n",
              "        vertical-align: top;\n",
              "    }\n",
              "\n",
              "    .dataframe thead th {\n",
              "        text-align: right;\n",
              "    }\n",
              "</style>\n",
              "<table border=\"1\" class=\"dataframe\">\n",
              "  <thead>\n",
              "    <tr style=\"text-align: right;\">\n",
              "      <th></th>\n",
              "      <th>18_group</th>\n",
              "      <th>17_group</th>\n",
              "    </tr>\n",
              "  </thead>\n",
              "  <tbody>\n",
              "    <tr>\n",
              "      <th>0</th>\n",
              "      <td>181.0</td>\n",
              "      <td>0.0</td>\n",
              "    </tr>\n",
              "    <tr>\n",
              "      <th>1</th>\n",
              "      <td>181.0</td>\n",
              "      <td>0.0</td>\n",
              "    </tr>\n",
              "    <tr>\n",
              "      <th>2</th>\n",
              "      <td>185.0</td>\n",
              "      <td>0.0</td>\n",
              "    </tr>\n",
              "    <tr>\n",
              "      <th>3</th>\n",
              "      <td>182.0</td>\n",
              "      <td>0.0</td>\n",
              "    </tr>\n",
              "    <tr>\n",
              "      <th>4</th>\n",
              "      <td>183.0</td>\n",
              "      <td>0.0</td>\n",
              "    </tr>\n",
              "    <tr>\n",
              "      <th>...</th>\n",
              "      <td>...</td>\n",
              "      <td>...</td>\n",
              "    </tr>\n",
              "    <tr>\n",
              "      <th>219</th>\n",
              "      <td>184.0</td>\n",
              "      <td>0.0</td>\n",
              "    </tr>\n",
              "    <tr>\n",
              "      <th>220</th>\n",
              "      <td>188.0</td>\n",
              "      <td>0.0</td>\n",
              "    </tr>\n",
              "    <tr>\n",
              "      <th>221</th>\n",
              "      <td>186.0</td>\n",
              "      <td>0.0</td>\n",
              "    </tr>\n",
              "    <tr>\n",
              "      <th>222</th>\n",
              "      <td>188.0</td>\n",
              "      <td>0.0</td>\n",
              "    </tr>\n",
              "    <tr>\n",
              "      <th>251</th>\n",
              "      <td>0.0</td>\n",
              "      <td>175.0</td>\n",
              "    </tr>\n",
              "  </tbody>\n",
              "</table>\n",
              "<p>224 rows × 2 columns</p>\n",
              "</div>\n",
              "    <div class=\"colab-df-buttons\">\n",
              "\n",
              "  <div class=\"colab-df-container\">\n",
              "    <button class=\"colab-df-convert\" onclick=\"convertToInteractive('df-56498cfd-cecb-41c5-a943-6b4237692e28')\"\n",
              "            title=\"Convert this dataframe to an interactive table.\"\n",
              "            style=\"display:none;\">\n",
              "\n",
              "  <svg xmlns=\"http://www.w3.org/2000/svg\" height=\"24px\" viewBox=\"0 -960 960 960\">\n",
              "    <path d=\"M120-120v-720h720v720H120Zm60-500h600v-160H180v160Zm220 220h160v-160H400v160Zm0 220h160v-160H400v160ZM180-400h160v-160H180v160Zm440 0h160v-160H620v160ZM180-180h160v-160H180v160Zm440 0h160v-160H620v160Z\"/>\n",
              "  </svg>\n",
              "    </button>\n",
              "\n",
              "  <style>\n",
              "    .colab-df-container {\n",
              "      display:flex;\n",
              "      gap: 12px;\n",
              "    }\n",
              "\n",
              "    .colab-df-convert {\n",
              "      background-color: #E8F0FE;\n",
              "      border: none;\n",
              "      border-radius: 50%;\n",
              "      cursor: pointer;\n",
              "      display: none;\n",
              "      fill: #1967D2;\n",
              "      height: 32px;\n",
              "      padding: 0 0 0 0;\n",
              "      width: 32px;\n",
              "    }\n",
              "\n",
              "    .colab-df-convert:hover {\n",
              "      background-color: #E2EBFA;\n",
              "      box-shadow: 0px 1px 2px rgba(60, 64, 67, 0.3), 0px 1px 3px 1px rgba(60, 64, 67, 0.15);\n",
              "      fill: #174EA6;\n",
              "    }\n",
              "\n",
              "    .colab-df-buttons div {\n",
              "      margin-bottom: 4px;\n",
              "    }\n",
              "\n",
              "    [theme=dark] .colab-df-convert {\n",
              "      background-color: #3B4455;\n",
              "      fill: #D2E3FC;\n",
              "    }\n",
              "\n",
              "    [theme=dark] .colab-df-convert:hover {\n",
              "      background-color: #434B5C;\n",
              "      box-shadow: 0px 1px 3px 1px rgba(0, 0, 0, 0.15);\n",
              "      filter: drop-shadow(0px 1px 2px rgba(0, 0, 0, 0.3));\n",
              "      fill: #FFFFFF;\n",
              "    }\n",
              "  </style>\n",
              "\n",
              "    <script>\n",
              "      const buttonEl =\n",
              "        document.querySelector('#df-56498cfd-cecb-41c5-a943-6b4237692e28 button.colab-df-convert');\n",
              "      buttonEl.style.display =\n",
              "        google.colab.kernel.accessAllowed ? 'block' : 'none';\n",
              "\n",
              "      async function convertToInteractive(key) {\n",
              "        const element = document.querySelector('#df-56498cfd-cecb-41c5-a943-6b4237692e28');\n",
              "        const dataTable =\n",
              "          await google.colab.kernel.invokeFunction('convertToInteractive',\n",
              "                                                    [key], {});\n",
              "        if (!dataTable) return;\n",
              "\n",
              "        const docLinkHtml = 'Like what you see? Visit the ' +\n",
              "          '<a target=\"_blank\" href=https://colab.research.google.com/notebooks/data_table.ipynb>data table notebook</a>'\n",
              "          + ' to learn more about interactive tables.';\n",
              "        element.innerHTML = '';\n",
              "        dataTable['output_type'] = 'display_data';\n",
              "        await google.colab.output.renderOutput(dataTable, element);\n",
              "        const docLink = document.createElement('div');\n",
              "        docLink.innerHTML = docLinkHtml;\n",
              "        element.appendChild(docLink);\n",
              "      }\n",
              "    </script>\n",
              "  </div>\n",
              "\n",
              "\n",
              "<div id=\"df-501e19f6-952e-4f18-bc11-145b0cc89f84\">\n",
              "  <button class=\"colab-df-quickchart\" onclick=\"quickchart('df-501e19f6-952e-4f18-bc11-145b0cc89f84')\"\n",
              "            title=\"Suggest charts\"\n",
              "            style=\"display:none;\">\n",
              "\n",
              "<svg xmlns=\"http://www.w3.org/2000/svg\" height=\"24px\"viewBox=\"0 0 24 24\"\n",
              "     width=\"24px\">\n",
              "    <g>\n",
              "        <path d=\"M19 3H5c-1.1 0-2 .9-2 2v14c0 1.1.9 2 2 2h14c1.1 0 2-.9 2-2V5c0-1.1-.9-2-2-2zM9 17H7v-7h2v7zm4 0h-2V7h2v10zm4 0h-2v-4h2v4z\"/>\n",
              "    </g>\n",
              "</svg>\n",
              "  </button>\n",
              "\n",
              "<style>\n",
              "  .colab-df-quickchart {\n",
              "      --bg-color: #E8F0FE;\n",
              "      --fill-color: #1967D2;\n",
              "      --hover-bg-color: #E2EBFA;\n",
              "      --hover-fill-color: #174EA6;\n",
              "      --disabled-fill-color: #AAA;\n",
              "      --disabled-bg-color: #DDD;\n",
              "  }\n",
              "\n",
              "  [theme=dark] .colab-df-quickchart {\n",
              "      --bg-color: #3B4455;\n",
              "      --fill-color: #D2E3FC;\n",
              "      --hover-bg-color: #434B5C;\n",
              "      --hover-fill-color: #FFFFFF;\n",
              "      --disabled-bg-color: #3B4455;\n",
              "      --disabled-fill-color: #666;\n",
              "  }\n",
              "\n",
              "  .colab-df-quickchart {\n",
              "    background-color: var(--bg-color);\n",
              "    border: none;\n",
              "    border-radius: 50%;\n",
              "    cursor: pointer;\n",
              "    display: none;\n",
              "    fill: var(--fill-color);\n",
              "    height: 32px;\n",
              "    padding: 0;\n",
              "    width: 32px;\n",
              "  }\n",
              "\n",
              "  .colab-df-quickchart:hover {\n",
              "    background-color: var(--hover-bg-color);\n",
              "    box-shadow: 0 1px 2px rgba(60, 64, 67, 0.3), 0 1px 3px 1px rgba(60, 64, 67, 0.15);\n",
              "    fill: var(--button-hover-fill-color);\n",
              "  }\n",
              "\n",
              "  .colab-df-quickchart-complete:disabled,\n",
              "  .colab-df-quickchart-complete:disabled:hover {\n",
              "    background-color: var(--disabled-bg-color);\n",
              "    fill: var(--disabled-fill-color);\n",
              "    box-shadow: none;\n",
              "  }\n",
              "\n",
              "  .colab-df-spinner {\n",
              "    border: 2px solid var(--fill-color);\n",
              "    border-color: transparent;\n",
              "    border-bottom-color: var(--fill-color);\n",
              "    animation:\n",
              "      spin 1s steps(1) infinite;\n",
              "  }\n",
              "\n",
              "  @keyframes spin {\n",
              "    0% {\n",
              "      border-color: transparent;\n",
              "      border-bottom-color: var(--fill-color);\n",
              "      border-left-color: var(--fill-color);\n",
              "    }\n",
              "    20% {\n",
              "      border-color: transparent;\n",
              "      border-left-color: var(--fill-color);\n",
              "      border-top-color: var(--fill-color);\n",
              "    }\n",
              "    30% {\n",
              "      border-color: transparent;\n",
              "      border-left-color: var(--fill-color);\n",
              "      border-top-color: var(--fill-color);\n",
              "      border-right-color: var(--fill-color);\n",
              "    }\n",
              "    40% {\n",
              "      border-color: transparent;\n",
              "      border-right-color: var(--fill-color);\n",
              "      border-top-color: var(--fill-color);\n",
              "    }\n",
              "    60% {\n",
              "      border-color: transparent;\n",
              "      border-right-color: var(--fill-color);\n",
              "    }\n",
              "    80% {\n",
              "      border-color: transparent;\n",
              "      border-right-color: var(--fill-color);\n",
              "      border-bottom-color: var(--fill-color);\n",
              "    }\n",
              "    90% {\n",
              "      border-color: transparent;\n",
              "      border-bottom-color: var(--fill-color);\n",
              "    }\n",
              "  }\n",
              "</style>\n",
              "\n",
              "  <script>\n",
              "    async function quickchart(key) {\n",
              "      const quickchartButtonEl =\n",
              "        document.querySelector('#' + key + ' button');\n",
              "      quickchartButtonEl.disabled = true;  // To prevent multiple clicks.\n",
              "      quickchartButtonEl.classList.add('colab-df-spinner');\n",
              "      try {\n",
              "        const charts = await google.colab.kernel.invokeFunction(\n",
              "            'suggestCharts', [key], {});\n",
              "      } catch (error) {\n",
              "        console.error('Error during call to suggestCharts:', error);\n",
              "      }\n",
              "      quickchartButtonEl.classList.remove('colab-df-spinner');\n",
              "      quickchartButtonEl.classList.add('colab-df-quickchart-complete');\n",
              "    }\n",
              "    (() => {\n",
              "      let quickchartButtonEl =\n",
              "        document.querySelector('#df-501e19f6-952e-4f18-bc11-145b0cc89f84 button');\n",
              "      quickchartButtonEl.style.display =\n",
              "        google.colab.kernel.accessAllowed ? 'block' : 'none';\n",
              "    })();\n",
              "  </script>\n",
              "</div>\n",
              "    </div>\n",
              "  </div>\n"
            ],
            "application/vnd.google.colaboratory.intrinsic+json": {
              "type": "dataframe",
              "summary": "{\n  \"name\": \"#print(both_groups\",\n  \"rows\": 224,\n  \"fields\": [\n    {\n      \"column\": \"18_group\",\n      \"properties\": {\n        \"dtype\": \"number\",\n        \"std\": 12.535395114852106,\n        \"min\": 0.0,\n        \"max\": 188.0,\n        \"num_unique_values\": 9,\n        \"samples\": [\n          188.0,\n          185.0,\n          186.0\n        ],\n        \"semantic_type\": \"\",\n        \"description\": \"\"\n      }\n    },\n    {\n      \"column\": \"17_group\",\n      \"properties\": {\n        \"dtype\": \"number\",\n        \"std\": 11.692679333668567,\n        \"min\": 0.0,\n        \"max\": 175.0,\n        \"num_unique_values\": 2,\n        \"samples\": [\n          175.0,\n          0.0\n        ],\n        \"semantic_type\": \"\",\n        \"description\": \"\"\n      }\n    }\n  ]\n}"
            }
          },
          "metadata": {},
          "execution_count": 65
        }
      ],
      "source": [
        "# both_groups = df.groupby(['fall_1', 'fall_2',\n",
        "#        'fall_3', 'spring_1', 'spring_2', 'spring_3'])[[\"18_group\", \"17_group\"]]\n",
        "#both_groups = df.groupby(\"fall_1\")[[\"18_group\", \"17_group\"]]\n",
        "#both_groups.filter(lambda x: (x[\"18_group\"].sum() > 0) )\n",
        "\n",
        "#both_groups = df.groupby(\"fall_2\")[[\"18_group\", \"17_group\"]]\n",
        "#both_groups.filter(lambda x: (x[\"18_group\"].sum() > 0) )\n",
        "\n",
        "#both_groups = df.groupby(\"fall_3\")[[\"18_group\", \"17_group\"]]\n",
        "#both_groups.filter(lambda x: (x[\"18_group\"].sum() > 0) )\n",
        "\n",
        "# both_groups = df.groupby(\"spring_1\")[[\"18_group\", \"17_group\"]]\n",
        "# both_groups.filter(lambda x: (x[\"18_group\"].sum() > 0) )\n",
        "\n",
        "# both_groups = df.groupby(\"spring_1\")[[\"18_group\", \"17_group\"]]\n",
        "# both_groups.filter(lambda x: (x[\"18_group\"].sum() > 0) )\n",
        "\n",
        "#both_groups = both_groups.filter(both_groups[\"17_group\"] == 0.0 | both_groups[\"18_grop\"] == 0.0)\n",
        "#print(both_groups.sample())"
      ]
    },
    {
      "cell_type": "markdown",
      "metadata": {
        "id": "XLHkAyDOV8C5"
      },
      "source": [
        "Методом исключения найдите курсы, которые предлагались только студентам 18-го года и только студентам 17-го года."
      ]
    },
    {
      "cell_type": "code",
      "execution_count": null,
      "metadata": {
        "id": "EKxkqJbfV8C5"
      },
      "outputs": [],
      "source": [
        "# your code"
      ]
    },
    {
      "cell_type": "markdown",
      "metadata": {
        "id": "FKefEC4OV8C6"
      },
      "source": [
        "### Визуализации и matplotlib"
      ]
    },
    {
      "cell_type": "markdown",
      "metadata": {
        "id": "Hxdtcn4dV8C6"
      },
      "source": [
        "При работе с данными часто неудобно делать какие-то выводы, если смотреть на таблицу и числа в частности, поэтому важно уметь визуализировать данные. Здесь будут описаны ключевые правила оформления графиков для **всех** домашних заданий.\n",
        "\n",
        "У matplotlib, конечно же, есть [документация](https://matplotlib.org/users/index.html) с большим количеством [примеров](https://matplotlib.org/examples/), но для начала достаточно знать про несколько основных типов графиков:\n",
        "- plot — обычный поточечный график, которым можно изображать кривые или отдельные точки;\n",
        "- hist — гистограмма, показывающая распределение некоторой величины;\n",
        "- scatter — график, показывающий взаимосвязь двух величин;\n",
        "- bar — столбцовый график, показывающий взаимосвязь количественной величины от категориальной.\n",
        "\n",
        "В этом задании вы попробуете построить один из них. Не забывайте про базовые принципы построения приличных графиков:\n",
        "- оси должны быть подписаны, причём не слишком мелко;\n",
        "- у графика должно быть название;\n",
        "- если изображено несколько графиков, то необходима поясняющая легенда;\n",
        "- все линии на графиках должны быть чётко видны (нет похожих цветов или цветов, сливающихся с фоном);\n",
        "- если отображена величина, имеющая очевидный диапазон значений (например, проценты могут быть от 0 до 100), то желательно масштабировать ось на весь диапазон значений (исключением является случай, когда вам необходимо показать малое отличие, которое незаметно в таких масштабах);\n",
        "- сетка на графике помогает оценить значения в точках на глаз, это обычно полезно, поэтому лучше ее отрисовывать;\n",
        "- если распределение на гистограмме имеет тяжёлые хвосты, лучше использовать логарифмическую шкалу."
      ]
    },
    {
      "cell_type": "code",
      "execution_count": null,
      "metadata": {
        "id": "gnKlo8UWV8C6"
      },
      "outputs": [],
      "source": [
        "%matplotlib inline\n",
        "import matplotlib.pyplot as plt"
      ]
    },
    {
      "cell_type": "markdown",
      "metadata": {
        "id": "wqw5vCZKV8C7"
      },
      "source": [
        "#### 8. [0.5 балла] Постройте график средних рейтингов по дням получения ответов (bar plot)."
      ]
    },
    {
      "cell_type": "code",
      "execution_count": null,
      "metadata": {
        "id": "dVjRvXNUV8C7"
      },
      "outputs": [],
      "source": [
        "# your code"
      ]
    },
    {
      "cell_type": "markdown",
      "metadata": {
        "id": "dvywcmAeV8C7"
      },
      "source": [
        "Сохраните график в формате pdf (так он останется векторизованным)."
      ]
    },
    {
      "cell_type": "code",
      "execution_count": null,
      "metadata": {
        "id": "WQBe-dqkV8C8"
      },
      "outputs": [],
      "source": [
        "# your code"
      ]
    },
    {
      "cell_type": "markdown",
      "metadata": {
        "id": "ASXsE94qV8C8"
      },
      "source": [
        "Еще одна билиотека для визуализации: [seaborn](https://jakevdp.github.io/PythonDataScienceHandbook/04.14-visualization-with-seaborn.html). Это настройка над matplotlib, иногда удобнее и красивее делать визуализации через неё."
      ]
    },
    {
      "cell_type": "markdown",
      "metadata": {
        "id": "QXBaCui0V8C9"
      },
      "source": [
        "### 2. Распределение студентов по курсам."
      ]
    },
    {
      "cell_type": "markdown",
      "metadata": {
        "id": "7Rbbqj0_V8C9"
      },
      "source": [
        "Теперь вам нужно распределить студентов по осенним курсам по выбору, учитывая их предпочтения."
      ]
    },
    {
      "cell_type": "markdown",
      "metadata": {
        "id": "PgOj1mHjV8C-"
      },
      "source": [
        "Алгоритм распределения студентов по курсам:\n",
        "1. По умолчанию на каждой дисциплине по выбору у 3 и 4 курсов может учиться 1 группа (до 30 студентов). Исключения описаны ниже. На blended-дисциплинах для четверокурсников количество мест не ограничено.\n",
        "2. Проводится первая волна отбора. Для каждой дисциплины формируется список тех, кто указал её первым приоритетом (если студент должен выбрать два курса по выбору, то для него дисциплины, которые он указал первым и вторым приоритетом, рассматриваются как дисциплины первого приоритета). Если желающих больше, чем мест, то выбирается топ по перцентилю рейтинга.\n",
        "3. На дисциплинах, где остались места после первой волны, формируются списки тех, кто выбрал их вторым приоритетом, и места заполняются лучшими по перцентили рейтинга студентами. После этого проводится такая же процедура для дисциплин третьего приоритета.\n",
        "4. Если студент не попал на необходимое количество курсов по итогам трёх волн, с ним связывается учебный офис и решает вопрос в индивидуальном порядке."
      ]
    },
    {
      "cell_type": "markdown",
      "metadata": {
        "id": "KVFnK9pGV8C-"
      },
      "source": [
        "Обращаем ваше внимание на следующие детали:\n",
        "\n",
        "- По умолчанию студент выбирает один осенний и один весенний курс по выбору, а также четверокурсники выбирают один blended-курс. Студенты групп 17-го года специализаций МОП и ТИ выбирают по 2 осенних и 2 весенних курса по выбору, также студенты групп 18' специализации МИ выбирают 2 осенних курса.\n",
        "\n",
        "- Студенты специализации МОП не могут выбрать весенним курсом по выбору Машинное обучение 2.\n",
        "\n",
        "- Blended-курсы не трогайте, по ним не надо распределять, на другие курсы они никак не влияют.\n",
        "\n",
        "- Постарайтесь воздержаться от использования циклов там, где это возможно.\n",
        "\n",
        "- На выходе ожидается файл res_fall.csv с результатами распределения на осенние курсы по выбору. Файл должен быть следующего формата:\n",
        "\n",
        "    * три столбца: ID, course1, course2\n",
        "    \n",
        "    * Если студент не попал на курс, но должен был, то вместо названия курса в ячейке должна быть строка \"???\"\n",
        "    \n",
        "    * Если студент должен выбрать только один курс, то в колонке course2 для него должна стоять строка \"-\"\n",
        "    \n",
        "    * Формат csv: для сохранения воспользуйтесь df.to_csv('solution.csv', index=None)\n",
        "    \n",
        "\n",
        "Для работы вам могут понадобиться следующие данные:\n",
        "\n",
        "- Результаты опроса (вы уже использовали этот файл в первой части задания, но на всякий случай ссылка: https://www.dropbox.com/s/f4rm8sjc3v99p0m/_end_seminar.xlsx?dl=0)\n",
        "\n",
        "- Соответствие номеров групп специализациям:\n",
        "\n",
        "    * 171, 172 - МОП; 173 - ТИ; 174 — АДИС; 175, 176 — РС; 177 — АПР\n",
        "    \n",
        "    * 181, 182 - МОП; 183 - ТИ; 184 - АДИС; 185, 186 - РС; 187 - АПР; 188 - МИ\n",
        "\n",
        "- Ограничения по количеству мест на курсах по выбору:\n",
        "\n",
        "    * Осенние: везде 30 мест, кроме Statistical Learning Theory (60 мест), Высокопроизводительных вычислений (60 мест), Анализа неструктурированных данных ($\\infty$ мест)\n",
        "\n",
        "    * Весенние: везде 30 мест, кроме Обучения с подкреплением (60 мест), Анализа данных в бизнесе (60 мест).\n",
        "\n",
        "\n",
        "Кстати, убедитесь, что в данных больше нет пропусков и повторных записей."
      ]
    },
    {
      "cell_type": "markdown",
      "metadata": {
        "id": "E2-hv-DWV8C_"
      },
      "source": [
        "#### 0. Проверка\n",
        "\n",
        "Для начала давайте убедимся, что вы успешно выполнили задания первой части и проверим ваши данные на наличие пропусков и повторов:"
      ]
    },
    {
      "cell_type": "code",
      "execution_count": null,
      "metadata": {
        "id": "ssrmRpKLV8C_"
      },
      "outputs": [],
      "source": [
        "assert df.shape[0] == 347, 'В таблице остались повторы или потеряны данные'\n",
        "\n",
        "assert df.isna().sum().sum() == 0, 'В таблице остались пропуски'"
      ]
    },
    {
      "cell_type": "markdown",
      "metadata": {
        "id": "UBDMJ3gbV8C_"
      },
      "source": [
        "Если вы не получили AssertionError, то можете продолжать."
      ]
    },
    {
      "cell_type": "markdown",
      "metadata": {
        "id": "4AfjLEVJV8DA"
      },
      "source": [
        "#### 1. [1 балл] Создайте новый признак, обозначающий, сколько осенних курсов должен выбрать студент\n",
        "\n",
        "В этом вам может помочь информация о специализации и группе стундента."
      ]
    },
    {
      "cell_type": "code",
      "execution_count": null,
      "metadata": {
        "id": "FfhsJG7yV8DA"
      },
      "outputs": [],
      "source": [
        "# (￣^￣)ゞ"
      ]
    },
    {
      "cell_type": "markdown",
      "metadata": {
        "id": "N_5Xw8FUV8DA"
      },
      "source": [
        "Проверка:"
      ]
    },
    {
      "cell_type": "code",
      "execution_count": null,
      "metadata": {
        "id": "04XINhmfV8DA"
      },
      "outputs": [],
      "source": [
        "col_name =     # insert your new column name as str\n",
        "\n",
        "assert(df[df['id'] == '2662600c2c37e11e62f6ee0b88452f22'][col_name] == 2).all()\n",
        "assert(df[df['id'] == 'd555d2805e1d93d4f023e57dc4c8f403'][col_name] == 2).all()\n",
        "assert(df[df['id'] == '8fe79f84f36e3a5d2d6745621321302c'][col_name] == 1).all()\n",
        "assert(df[df['id'] == 'e4caca755ee0bdd711e18fb8084958b5'][col_name] == 1).all()"
      ]
    },
    {
      "cell_type": "markdown",
      "metadata": {
        "id": "uk-4g0BgV8DB"
      },
      "source": [
        "#### 2. [2 балла] Распределите студентов в соответствии с первым приоритетом"
      ]
    },
    {
      "cell_type": "code",
      "execution_count": null,
      "metadata": {
        "id": "39XE3CMgV8DB"
      },
      "outputs": [],
      "source": [
        "# (￣^￣)ゞ"
      ]
    },
    {
      "cell_type": "markdown",
      "metadata": {
        "id": "8WGbn4TjV8DB"
      },
      "source": [
        "Здесь для проверки приведена таблица, в которой есть 2 дополнительные колонки:\n",
        "    \n",
        "    1) is_first_place - является ли студент лучшим по перцентили хотя бы на одном из курсов, куда он был зачислен\n",
        "    (True / NaN)\n",
        "    \n",
        "    2) is_last_place  - является ли студент худшим по перцентили хотя бы на одном из курсов, куда он был зачислен (True / NaN)"
      ]
    },
    {
      "cell_type": "code",
      "execution_count": null,
      "metadata": {
        "id": "YVqSVuVuV8DB"
      },
      "outputs": [],
      "source": [
        "!wget  -O '2_task_check.csv' -q 'https://www.dropbox.com/s/v8o2zzq3iz5gc9w/_2_task_check.csv?dl=0'\n",
        "check_df = pd.read_csv('2_task_check.csv')"
      ]
    },
    {
      "cell_type": "markdown",
      "metadata": {
        "id": "fjA92vQ9V8DC"
      },
      "source": [
        "После распределения студентов в соответствии с первым приоритетом добавьте в свой датафрейм аналогичные признаки и запустите проверку:"
      ]
    },
    {
      "cell_type": "code",
      "execution_count": null,
      "metadata": {
        "id": "-4mLFdHOV8DC"
      },
      "outputs": [],
      "source": [
        "fir_col_name =       # insert name of your new column with is_first_place as str\n",
        "last_col_name =      # insert name of your new column with is_last_place as str\n",
        "\n",
        "\n",
        "assert((df[df[fir_col_name].isna() == False][['id']].sort_values('id').reset_index(drop=True)\n",
        "        ==\n",
        "        check_df[check_df['is_first_place'].isna() == False][['id']].sort_values('id').reset_index(drop=True)\n",
        "       ).id.values).all()\n",
        "\n",
        "\n",
        "assert((df[df[last_col_name].isna() == False][['id']].sort_values('id').reset_index(drop=True)\n",
        "       ==\n",
        "       check_df[check_df['is_last_place'].isna() == False][['id']].sort_values('id').reset_index(drop=True)\n",
        "      ).id.values).all()"
      ]
    },
    {
      "cell_type": "markdown",
      "metadata": {
        "id": "8W2-nj8oV8DC"
      },
      "source": [
        "#### 3. [3 балла] Проведите все три волны отбора студентов на курсы по выбору"
      ]
    },
    {
      "cell_type": "code",
      "execution_count": null,
      "metadata": {
        "id": "GDVMNx5dV8DC"
      },
      "outputs": [],
      "source": [
        "# (￣^￣)ゞ"
      ]
    },
    {
      "cell_type": "markdown",
      "metadata": {
        "id": "-xyJ-eCcV8DD"
      },
      "source": [
        "**Добавьте свой файл res_fall.csv в репозиторий.**"
      ]
    },
    {
      "cell_type": "markdown",
      "metadata": {
        "id": "PIklTSnXV8DF"
      },
      "source": [
        "**Дополнительное задание. [2 бонусных балла] Распределите таким же образом студентов еще и на весенние курсы по выбору.**\n",
        "\n",
        "Если ваш код был хорошо структурирован, то это не составит проблем.\n",
        "\n",
        "Если вы выполнили это задание, прикрепите среди прочего файл res_spring.csv в таком же формате, как и res_fall.csv."
      ]
    },
    {
      "cell_type": "code",
      "execution_count": null,
      "metadata": {
        "id": "S2DaVnkCV8DF"
      },
      "outputs": [],
      "source": [
        "# (￣^'￣)ゞ"
      ]
    },
    {
      "cell_type": "markdown",
      "metadata": {
        "id": "AJ_qF4pGV8DH"
      },
      "source": [
        "**[1 балл]** Вставьте картинку, описывающую ваш опыт выполнения этого задания:"
      ]
    },
    {
      "cell_type": "markdown",
      "source": [
        "![scale_1200.jpg](data:image/jpeg;base64,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)"
      ],
      "metadata": {
        "id": "Ej1a5lyx9P7O"
      }
    }
  ],
  "metadata": {
    "colab": {
      "provenance": [],
      "collapsed_sections": [
        "E2-hv-DWV8C_",
        "4AfjLEVJV8DA",
        "uk-4g0BgV8DB"
      ]
    },
    "kernelspec": {
      "display_name": "Python 3",
      "language": "python",
      "name": "python3"
    },
    "language_info": {
      "codemirror_mode": {
        "name": "ipython",
        "version": 3
      },
      "file_extension": ".py",
      "mimetype": "text/x-python",
      "name": "python",
      "nbconvert_exporter": "python",
      "pygments_lexer": "ipython3",
      "version": "3.6.9"
    }
  },
  "nbformat": 4,
  "nbformat_minor": 0
}